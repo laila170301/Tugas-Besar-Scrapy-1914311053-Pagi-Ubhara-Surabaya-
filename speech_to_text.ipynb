{
 "cells": [
  {
   "cell_type": "code",
   "execution_count": 1,
   "metadata": {},
   "outputs": [
    {
     "name": "stdout",
     "output_type": "stream",
     "text": [
      "Requirement already satisfied: ibm_watson in c:\\users\\eka susanti\\anaconda33\\lib\\site-packages (5.1.0)\n",
      "Requirement already satisfied: python-dateutil>=2.5.3 in c:\\users\\eka susanti\\anaconda33\\lib\\site-packages (from ibm_watson) (2.8.1)\n",
      "Requirement already satisfied: ibm-cloud-sdk-core>=3.3.6 in c:\\users\\eka susanti\\anaconda33\\lib\\site-packages (from ibm_watson) (3.10.0)\n",
      "Requirement already satisfied: websocket-client==0.48.0 in c:\\users\\eka susanti\\anaconda33\\lib\\site-packages (from ibm_watson) (0.48.0)\n",
      "Requirement already satisfied: requests<3.0,>=2.0 in c:\\users\\eka susanti\\anaconda33\\lib\\site-packages (from ibm_watson) (2.24.0)\n",
      "Requirement already satisfied: six>=1.5 in c:\\users\\eka susanti\\anaconda33\\lib\\site-packages (from python-dateutil>=2.5.3->ibm_watson) (1.15.0)\n",
      "Requirement already satisfied: PyJWT<3.0.0,>=2.0.1 in c:\\users\\eka susanti\\anaconda33\\lib\\site-packages (from ibm-cloud-sdk-core>=3.3.6->ibm_watson) (2.1.0)\n",
      "Requirement already satisfied: certifi>=2017.4.17 in c:\\users\\eka susanti\\anaconda33\\lib\\site-packages (from requests<3.0,>=2.0->ibm_watson) (2020.6.20)\n",
      "Requirement already satisfied: chardet<4,>=3.0.2 in c:\\users\\eka susanti\\anaconda33\\lib\\site-packages (from requests<3.0,>=2.0->ibm_watson) (3.0.4)\n",
      "Requirement already satisfied: idna<3,>=2.5 in c:\\users\\eka susanti\\anaconda33\\lib\\site-packages (from requests<3.0,>=2.0->ibm_watson) (2.10)\n",
      "Requirement already satisfied: urllib3!=1.25.0,!=1.25.1,<1.26,>=1.21.1 in c:\\users\\eka susanti\\anaconda33\\lib\\site-packages (from requests<3.0,>=2.0->ibm_watson) (1.25.9)\n"
     ]
    }
   ],
   "source": [
    "! pip install ibm_watson"
   ]
  },
  {
   "cell_type": "code",
   "execution_count": 2,
   "metadata": {},
   "outputs": [],
   "source": [
    "from ibm_watson import SpeechToTextV1\n",
    "from ibm_watson.websocket import RecognizeCallback, AudioSource \n",
    "from ibm_cloud_sdk_core.authenticators import IAMAuthenticator"
   ]
  },
  {
   "cell_type": "code",
   "execution_count": 3,
   "metadata": {},
   "outputs": [],
   "source": [
    "apikey = 'w9jC2MtxmxLJl47NnbCz3LDB3znBHTWkFm0zzU3xPUU8'\n",
    "url = 'https://api.au-syd.speech-to-text.watson.cloud.ibm.com/instances/ee0c58bf-48f0-422d-ae55-537105cfa31a'"
   ]
  },
  {
   "cell_type": "code",
   "execution_count": 4,
   "metadata": {},
   "outputs": [],
   "source": [
    "# Setup Service\n",
    "authenticator = IAMAuthenticator(apikey)\n",
    "stt = SpeechToTextV1(authenticator=authenticator)\n",
    "stt.set_service_url(url)"
   ]
  },
  {
   "cell_type": "code",
   "execution_count": 15,
   "metadata": {},
   "outputs": [],
   "source": [
    "# Perform conversion\n",
    "with open('ah_yes.wav', 'rb') as f:\n",
    "    res = stt.recognize(audio=f, content_type='audio/wav', model='en-US_NarrowbandModel', continuous=True).get_result()"
   ]
  },
  {
   "cell_type": "code",
   "execution_count": 16,
   "metadata": {},
   "outputs": [
    {
     "data": {
      "text/plain": [
       "'%HESITATION yes '"
      ]
     },
     "execution_count": 16,
     "metadata": {},
     "output_type": "execute_result"
    }
   ],
   "source": [
    "text = res['results'][0]['alternatives'][0]['transcript']\n",
    "text"
   ]
  },
  {
   "cell_type": "code",
   "execution_count": null,
   "metadata": {},
   "outputs": [],
   "source": []
  }
 ],
 "metadata": {
  "kernelspec": {
   "display_name": "Python 3",
   "language": "python",
   "name": "python3"
  },
  "language_info": {
   "codemirror_mode": {
    "name": "ipython",
    "version": 3
   },
   "file_extension": ".py",
   "mimetype": "text/x-python",
   "name": "python",
   "nbconvert_exporter": "python",
   "pygments_lexer": "ipython3",
   "version": "3.8.3"
  }
 },
 "nbformat": 4,
 "nbformat_minor": 4
}
